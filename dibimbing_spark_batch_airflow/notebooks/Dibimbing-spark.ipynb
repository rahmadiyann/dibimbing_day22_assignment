{
 "cells": [
  {
   "cell_type": "code",
   "execution_count": null,
   "id": "a867864e-ad0e-4175-9ba7-00028eba48a5",
   "metadata": {
    "collapsed": true,
    "jupyter": {
     "outputs_hidden": true
    },
    "tags": []
   },
   "outputs": [],
   "source": [
    "import pyspark\n",
    "import os\n",
    "import json\n",
    "import argparse\n",
    "\n",
    "from dotenv import load_dotenv\n",
    "from pathlib import Path\n",
    "from pyspark.sql.types import StructType\n",
    "from pyspark.sql.functions import to_timestamp,col,when"
   ]
  },
  {
   "cell_type": "markdown",
   "id": "efc4e293-7230-4d7c-bc4f-f8ba5d4e32e8",
   "metadata": {
    "jp-MarkdownHeadingCollapsed": true,
    "tags": []
   },
   "source": [
    "## Initialization"
   ]
  },
  {
   "cell_type": "code",
   "execution_count": null,
   "id": "a8ac2902-1ba2-4f59-b3db-da15788af820",
   "metadata": {
    "collapsed": true,
    "jupyter": {
     "outputs_hidden": true
    },
    "tags": []
   },
   "outputs": [],
   "source": [
    "dotenv_path = Path('/resources/.env')\n",
    "load_dotenv(dotenv_path=dotenv_path)"
   ]
  },
  {
   "cell_type": "code",
   "execution_count": null,
   "id": "0ba0f442-5349-4f76-87e6-7147a1963dc7",
   "metadata": {
    "collapsed": true,
    "jupyter": {
     "outputs_hidden": true
    },
    "tags": []
   },
   "outputs": [],
   "source": [
    "postgres_host = os.getenv('POSTGRES_CONTAINER_NAME')\n",
    "postgres_dw_db = os.getenv('POSTGRES_DW_DB')\n",
    "postgres_user = os.getenv('POSTGRES_USER')\n",
    "postgres_password = os.getenv('POSTGRES_PASSWORD')"
   ]
  },
  {
   "cell_type": "code",
   "execution_count": null,
   "id": "025b23a6-c84c-48d4-87e4-94d4a9953d1b",
   "metadata": {
    "collapsed": true,
    "jupyter": {
     "outputs_hidden": true
    },
    "tags": []
   },
   "outputs": [],
   "source": [
    "sparkcontext = pyspark.SparkContext.getOrCreate(conf=(\n",
    "        pyspark\n",
    "        .SparkConf()\n",
    "        .setAppName('Dibimbing')\n",
    "        .setMaster('local')\n",
    "        .set(\"spark.jars\", \"/opt/postgresql-42.2.18.jar\")\n",
    "    ))\n",
    "sparkcontext.setLogLevel(\"WARN\")\n",
    "\n",
    "spark = pyspark.sql.SparkSession(sparkcontext.getOrCreate())"
   ]
  },
  {
   "cell_type": "code",
   "execution_count": null,
   "id": "5bc1fd6b-ed91-4843-af3a-14e7c6114b6a",
   "metadata": {
    "collapsed": true,
    "jupyter": {
     "outputs_hidden": true
    },
    "tags": []
   },
   "outputs": [],
   "source": [
    "spark"
   ]
  },
  {
   "cell_type": "markdown",
   "id": "fce8def0-a6b9-4fa7-a6f3-4df51d235b7d",
   "metadata": {
    "jp-MarkdownHeadingCollapsed": true,
    "tags": []
   },
   "source": [
    "## Basic"
   ]
  },
  {
   "cell_type": "code",
   "execution_count": null,
   "id": "9faae8a4-7c8d-4d15-a3ed-422afb3def32",
   "metadata": {
    "collapsed": true,
    "jupyter": {
     "outputs_hidden": true
    },
    "tags": []
   },
   "outputs": [],
   "source": [
    "schema = \"invoice_no long, stock_code string, description string, quantity int, invoice_date string, unit_price float, customer_id int, country string\"\n",
    "\n",
    "df = spark.read.csv(\"/resources/data/online-retail-dataset.csv\", header=True, schema=schema)\n",
    "df = df.withColumn(\"invoice_date\", to_timestamp(df[\"invoice_date\"], \"M/d/yyyy H:mm\"))"
   ]
  },
  {
   "cell_type": "code",
   "execution_count": null,
   "id": "adddd7a6-58ce-4fa3-82b9-fa5595285ad1",
   "metadata": {
    "collapsed": true,
    "jupyter": {
     "outputs_hidden": true
    },
    "tags": []
   },
   "outputs": [],
   "source": [
    "# == Viewing Data ==\n",
    "# Display top 5 rows\n",
    "df.show(5)\n",
    "\n",
    "# Display the schema of the DataFrame\n",
    "df.printSchema()\n",
    "\n",
    "# List all column names\n",
    "df.columns"
   ]
  },
  {
   "cell_type": "code",
   "execution_count": null,
   "id": "27fe3713-e094-47fb-85a9-67219454a34b",
   "metadata": {
    "collapsed": true,
    "jupyter": {
     "outputs_hidden": true
    },
    "tags": []
   },
   "outputs": [],
   "source": [
    "# == Selecting Columns ==\n",
    "# Select specific columns\n",
    "df.select(\"invoice_no\", \"stock_code\").show()\n",
    "\n",
    "# Using alias to rename a column\n",
    "df.select(df.invoice_no.alias(\"invoice_number\")).show()"
   ]
  },
  {
   "cell_type": "code",
   "execution_count": null,
   "id": "6408a930-e173-4a3c-83da-28a28551daa0",
   "metadata": {
    "collapsed": true,
    "jupyter": {
     "outputs_hidden": true
    },
    "tags": []
   },
   "outputs": [],
   "source": [
    "# == Filtering Rows (WHERE) ==\n",
    "# Filter rows using a condition\n",
    "df.filter(df.unit_price > 5).show()\n",
    "\n",
    "# Filter using multiple conditions\n",
    "df.filter((df.unit_price > 5) & (df.customer_id == \"16503\")).show()\n"
   ]
  },
  {
   "cell_type": "code",
   "execution_count": null,
   "id": "2a8b5c6f-567e-44f2-ab16-9f0972e698bf",
   "metadata": {
    "collapsed": true,
    "jupyter": {
     "outputs_hidden": true
    },
    "tags": []
   },
   "outputs": [],
   "source": [
    "# Cell 6: Sorting Rows (ORDER BY)\n",
    "# Sort by a single column\n",
    "df.orderBy(\"invoice_date\").show()\n",
    "\n",
    "# Sort by multiple columns\n",
    "df.orderBy(df.invoice_no.asc(), df.invoice_date.desc()).show()\n"
   ]
  },
  {
   "cell_type": "code",
   "execution_count": null,
   "id": "19fc46da-7e0c-4523-a1d3-f5c473db4fdb",
   "metadata": {
    "collapsed": true,
    "jupyter": {
     "outputs_hidden": true
    },
    "tags": []
   },
   "outputs": [],
   "source": [
    "# Cell 7: Aggregations (GROUP BY)\n",
    "# Group by and aggregate using count, sum, avg, etc.\n",
    "df.groupBy(\"customer_id\").count().show()\n",
    "df.groupBy(\"customer_id\").sum(\"unit_price\").show()\n",
    "df.groupBy(\"customer_id\").agg({\"unit_price\": \"mean\", \"unit_price\": \"max\"}).show()\n"
   ]
  },
  {
   "cell_type": "code",
   "execution_count": null,
   "id": "b94c3b0e-7273-4225-94ad-ca2742448f1d",
   "metadata": {
    "collapsed": true,
    "jupyter": {
     "outputs_hidden": true
    },
    "tags": []
   },
   "outputs": [],
   "source": [
    "# == CASE WHEN (Conditional Statements) ==\n",
    "# Create a new column with conditional values\n",
    "df = df.withColumn(\"price_status\", when(df.unit_price > 7, \"High\").otherwise(\"Low\"))\n",
    "df.show()\n"
   ]
  },
  {
   "cell_type": "code",
   "execution_count": null,
   "id": "def5d277-7c3d-4041-b467-37853a5c9f66",
   "metadata": {
    "collapsed": true,
    "jupyter": {
     "outputs_hidden": true
    },
    "tags": []
   },
   "outputs": [],
   "source": [
    "# == Handling Missing Data == \n",
    "# Drop rows with any nulls\n",
    "df = df.na.drop()\n",
    "\n",
    "# Fill nulls in a specific column with a value\n",
    "df = df.na.fill({\"description\": \"no description\", \"unit_price\": 0})\n"
   ]
  },
  {
   "cell_type": "markdown",
   "id": "f486e199",
   "metadata": {
    "jp-MarkdownHeadingCollapsed": true,
    "tags": []
   },
   "source": [
    "## UDF"
   ]
  },
  {
   "cell_type": "code",
   "execution_count": null,
   "id": "d49cd137-c48f-4901-a0af-8b4628e0b8d4",
   "metadata": {
    "collapsed": true,
    "jupyter": {
     "outputs_hidden": true
    },
    "tags": []
   },
   "outputs": [],
   "source": [
    "from pyspark.sql.functions import col, udf, pandas_udf\n",
    "from pyspark.sql.types import IntegerType\n",
    "\n",
    "# Create a sample dataframe\n",
    "df = spark.createDataFrame([(1, \"apple\"), (2, \"banana\"), (3, \"orange\"), \n",
    "                            (4, \"apple\"), (5, \"banana\"), (6, \"orange\"),\n",
    "                            (7, \"apple\"), (8, \"banana\"), (9, \"orange\"),\n",
    "                            (10, \"apple\")], [\"id\", \"fruit\"])"
   ]
  },
  {
   "cell_type": "code",
   "execution_count": null,
   "id": "08f54db5-1de8-45d0-b25c-569ab400ad52",
   "metadata": {
    "collapsed": true,
    "jupyter": {
     "outputs_hidden": true
    },
    "tags": []
   },
   "outputs": [],
   "source": [
    "# Define the UDF logic\n",
    "def string_length(s):\n",
    "    return len(s)\n",
    "\n",
    "# Define the Python UDF\n",
    "string_length_udf = udf(string_length, IntegerType())\n",
    "\n",
    "# Apply the Python UDF and display the result\n",
    "df1 = df.withColumn(\"length\", string_length_udf(col(\"fruit\")))\n",
    "df1.show()"
   ]
  },
  {
   "cell_type": "code",
   "execution_count": null,
   "id": "007cc03d-d008-421f-a75c-bfcb2cc810e6",
   "metadata": {
    "collapsed": true,
    "jupyter": {
     "outputs_hidden": true
    },
    "tags": []
   },
   "outputs": [],
   "source": [
    "import pandas as pd\n",
    "\n",
    "# Define the Pandas UDF\n",
    "@pandas_udf(IntegerType())\n",
    "def string_length_pandas_udf(s: pd.Series) -> pd.Series:\n",
    "    return s.str.len()\n",
    "    \n",
    "# Apply the Pandas UDF and display the result\n",
    "df2 = df.withColumn(\"length\", string_length_pandas_udf(col(\"fruit\")))\n",
    "df2.show()"
   ]
  },
  {
   "cell_type": "markdown",
   "id": "1fc1a3c4",
   "metadata": {
    "tags": []
   },
   "source": [
    "## Join"
   ]
  },
  {
   "cell_type": "code",
   "execution_count": null,
   "id": "0ba8408e",
   "metadata": {
    "collapsed": true,
    "jupyter": {
     "outputs_hidden": true
    },
    "tags": []
   },
   "outputs": [],
   "source": [
    "spark.conf.set(\"spark.sql.adaptive.enabled\", \"false\")"
   ]
  },
  {
   "cell_type": "code",
   "execution_count": null,
   "id": "5debe3b7",
   "metadata": {
    "collapsed": true,
    "jupyter": {
     "outputs_hidden": true
    },
    "tags": []
   },
   "outputs": [],
   "source": [
    "# define schema for purchases dataset\n",
    "purchases_schema = \"order_id int, customer_id int, product_id int, quantity int, price float\"\n",
    "\n",
    "# create purchases dataframe\n",
    "purchases_data = [\n",
    "    (101, 1, 1, 2, 19.99), # Worker 1\n",
    "    (102, 2, 2, 1, 9.99), # Worker 1\n",
    "    (103, 3, 3, 1, 15.99), # Worker 1\n",
    "    (104, 1, 4, 1, 5.99), # Worker 2\n",
    "    (105, 2, 5, 3, 12.99), # Worker 2\n",
    "    (106, 3, 6, 2, 9.99), # Worker 2\n",
    "    (107, 4, 7, 1, 11.99), # Worker 2\n",
    "    (108, 1, 8, 2, 14.99), # Worker 3\n",
    "    (109, 2, 9, 1, 9.99), # Worker 3\n",
    "    (110, 3, 10, 1, 19.99) # Worker 3\n",
    "]\n",
    "purchases_df = spark.createDataFrame(purchases_data, schema=purchases_schema)\n",
    "# 10.000 row\n",
    "\n",
    "# define schema for customers dataset\n",
    "customers_schema = \"customer_id int, name string, email string\"\n",
    "\n",
    "# create customers dataframe\n",
    "customers_data = [\n",
    "    (1, \"John Doe\", \"johndoe@example.com\"), # Worker 1\n",
    "    (2, \"Jane Smith\", \"janesmith@example.com\"), # Worker 2\n",
    "    (3, \"Bob Johnson\", \"bobjohnson@example.com\"), # Worker 3\n",
    "    (4, \"Sue Lee\", \"suelee@example.com\"), # Worker 3\n",
    "]\n",
    "\n",
    "customers_df = spark.createDataFrame(customers_data, schema=customers_schema)\n",
    "# 1000 row\n",
    "\n",
    "# define schema for products dataset\n",
    "products_schema = \"product_id int, name string, price float\"\n",
    "\n",
    "# create products dataframe\n",
    "products_data = [\n",
    "    (1, \"Product A\", 19.99),\n",
    "    (2, \"Product B\", 9.99),\n",
    "    (3, \"Product C\", 15.99),\n",
    "    (4, \"Product D\", 5.99),\n",
    "    (5, \"Product E\", 12.99),\n",
    "    (6, \"Product F\", 9.99),\n",
    "    (7, \"Product G\", 11.99),\n",
    "    (8, \"Product H\", 14.99),\n",
    "    (9, \"Product I\", 9.99),\n",
    "    (10, \"Product J\", 19.99)\n",
    "]\n",
    "products_df = spark.createDataFrame(products_data, schema=products_schema)"
   ]
  },
  {
   "cell_type": "code",
   "execution_count": null,
   "id": "ee4acd54",
   "metadata": {
    "collapsed": true,
    "jupyter": {
     "outputs_hidden": true
    },
    "tags": []
   },
   "outputs": [],
   "source": [
    "\n",
    "# set join preferences\n",
    "spark.conf.set(\"spark.sql.join.preferSortMergeJoin\", \"true\")\n",
    "spark.conf.set(\"spark.sql.autoBroadcastJoinThreshold\", \"-1\")\n",
    "\n",
    "# perform sort merge join\n",
    "merged_df = (\n",
    "    purchases_df\n",
    "    .join(customers_df, \"customer_id\")\n",
    "    .join(products_df, \"product_id\")\n",
    ")"
   ]
  },
  {
   "cell_type": "code",
   "execution_count": null,
   "id": "4843cfad-0947-4533-b79e-11c933490907",
   "metadata": {
    "collapsed": true,
    "jupyter": {
     "outputs_hidden": true
    },
    "tags": []
   },
   "outputs": [],
   "source": [
    "merged_df.show()"
   ]
  },
  {
   "cell_type": "code",
   "execution_count": null,
   "id": "4da946f4-663f-42a6-a0f6-5d59e8ba6666",
   "metadata": {
    "collapsed": true,
    "jupyter": {
     "outputs_hidden": true
    },
    "tags": []
   },
   "outputs": [],
   "source": [
    "merged_df.show()"
   ]
  },
  {
   "cell_type": "code",
   "execution_count": null,
   "id": "7a3fc643",
   "metadata": {
    "collapsed": true,
    "jupyter": {
     "outputs_hidden": true
    },
    "tags": []
   },
   "outputs": [],
   "source": [
    "from pyspark.sql.functions import broadcast\n",
    "\n",
    "# set join preferences\n",
    "spark.conf.set(\"spark.sql.join.preferSortMergeJoin\", \"false\")\n",
    "spark.conf.set(\"spark.sql.autoBroadcastJoinThreshold\", \"1000000000\")\n",
    "\n",
    "# perform broadcast hash join\n",
    "broadcast_df = purchases_df.join(broadcast(customers_df), \"customer_id\").join(broadcast(products_df), \"product_id\")\n",
    "broadcast_df.show(5)"
   ]
  },
  {
   "cell_type": "code",
   "execution_count": null,
   "id": "ee11a5e4-5b22-4869-9350-fa86a4dc73e5",
   "metadata": {
    "collapsed": true,
    "jupyter": {
     "outputs_hidden": true
    },
    "tags": []
   },
   "outputs": [],
   "source": [
    "broadcast_df.show(1)"
   ]
  },
  {
   "cell_type": "markdown",
   "id": "1c4e7b6f",
   "metadata": {
    "jp-MarkdownHeadingCollapsed": true,
    "tags": []
   },
   "source": [
    "## Cache & Persist"
   ]
  },
  {
   "cell_type": "code",
   "execution_count": null,
   "id": "6d34ddc9",
   "metadata": {
    "collapsed": true,
    "jupyter": {
     "outputs_hidden": true
    },
    "tags": []
   },
   "outputs": [],
   "source": [
    "broadcast_df.show()"
   ]
  },
  {
   "cell_type": "code",
   "execution_count": null,
   "id": "29762444",
   "metadata": {
    "collapsed": true,
    "jupyter": {
     "outputs_hidden": true
    },
    "tags": []
   },
   "outputs": [],
   "source": [
    "# cache the purchases DataFrame\n",
    "# broadcast_df.cache()\n",
    "broadcast_df.unpersist()"
   ]
  },
  {
   "cell_type": "code",
   "execution_count": null,
   "id": "c5362722",
   "metadata": {
    "collapsed": true,
    "jupyter": {
     "outputs_hidden": true
    },
    "tags": []
   },
   "outputs": [],
   "source": [
    "from pyspark.sql.functions import col\n",
    "\n",
    "# calculate the total purchase amount for each store using the cached DataFrame\n",
    "store_purchase_totals = (\n",
    "    purchases_df\n",
    "    .withColumn(\"total_price\",col(\"quantity\")*col(\"price\"))\n",
    "    .groupBy(\"customer_id\")\n",
    "    .agg({\"total_price\":\"sum\"}).alias(\"total_purchase_amount\")\n",
    ")"
   ]
  },
  {
   "cell_type": "code",
   "execution_count": null,
   "id": "d393ce0b",
   "metadata": {
    "collapsed": true,
    "jupyter": {
     "outputs_hidden": true
    },
    "tags": []
   },
   "outputs": [],
   "source": [
    "# persist the store_purchase_totals DataFrame to disk\n",
    "# store_purchase_totals.persist(pyspark.StorageLevel.DISK_ONLY)\n",
    "store_purchase_totals.persist(pyspark.StorageLevel.MEMORY_ONLY)\n"
   ]
  },
  {
   "cell_type": "code",
   "execution_count": null,
   "id": "3cd6c04e",
   "metadata": {
    "collapsed": true,
    "jupyter": {
     "outputs_hidden": true
    },
    "tags": []
   },
   "outputs": [],
   "source": [
    "# print the results\n",
    "store_purchase_totals.show()"
   ]
  },
  {
   "cell_type": "code",
   "execution_count": null,
   "id": "a61f1045-5d26-483c-b305-6afbbf81eda7",
   "metadata": {
    "collapsed": true,
    "jupyter": {
     "outputs_hidden": true
    },
    "tags": []
   },
   "outputs": [],
   "source": [
    "# print the results\n",
    "store_purchase_totals.show()"
   ]
  },
  {
   "cell_type": "code",
   "execution_count": null,
   "id": "1a7311ae",
   "metadata": {
    "collapsed": true,
    "jupyter": {
     "outputs_hidden": true
    },
    "tags": []
   },
   "outputs": [],
   "source": [
    "# unpersist the store_purchase_totals DataFrame to free up memory\n",
    "store_purchase_totals.unpersist()"
   ]
  },
  {
   "cell_type": "markdown",
   "id": "32239315",
   "metadata": {},
   "source": [
    "Balik lagi ke collab"
   ]
  },
  {
   "cell_type": "markdown",
   "id": "07bb0765-642a-4bda-97ed-508cc1ae491a",
   "metadata": {
    "tags": []
   },
   "source": [
    "# JDBC"
   ]
  },
  {
   "cell_type": "code",
   "execution_count": null,
   "id": "b9a81123-e2db-455a-a118-62ab7c9a9dd6",
   "metadata": {
    "collapsed": true,
    "jupyter": {
     "outputs_hidden": true
    },
    "tags": []
   },
   "outputs": [],
   "source": [
    "jdbc_url = f'jdbc:postgresql://{postgres_host}/{postgres_dw_db}'\n",
    "jdbc_properties = {\n",
    "    'user': postgres_user,\n",
    "    'password': postgres_password,\n",
    "    'driver': 'org.postgresql.Driver',\n",
    "    'stringtype': 'unspecified'\n",
    "}"
   ]
  },
  {
   "cell_type": "code",
   "execution_count": null,
   "id": "75f7b87d-7135-4cde-875e-961fae293f21",
   "metadata": {
    "collapsed": true,
    "jupyter": {
     "outputs_hidden": true
    },
    "tags": []
   },
   "outputs": [],
   "source": [
    "retail_df = spark.read.jdbc(\n",
    "    jdbc_url,\n",
    "    'public.retail',\n",
    "    properties=jdbc_properties\n",
    ")"
   ]
  },
  {
   "cell_type": "code",
   "execution_count": null,
   "id": "58e2aafe-7bd5-42e4-81dd-38122bc3cf1c",
   "metadata": {
    "collapsed": true,
    "jupyter": {
     "outputs_hidden": true
    },
    "tags": []
   },
   "outputs": [],
   "source": [
    "retail_df.show(5)"
   ]
  },
  {
   "cell_type": "code",
   "execution_count": null,
   "id": "02307c9f-e3ae-43b5-bb8e-aa6a8ca768bd",
   "metadata": {
    "collapsed": true,
    "jupyter": {
     "outputs_hidden": true
    },
    "tags": []
   },
   "outputs": [],
   "source": [
    "(\n",
    "    retail_df\n",
    "    .limit(10)\n",
    "    .write\n",
    "    .mode(\"append\")\n",
    "    .option(\"truncate\", \"true\")\n",
    "    .jdbc(\n",
    "        jdbc_url,\n",
    "        'public.sample_retail',\n",
    "        properties=jdbc_properties\n",
    "    )\n",
    ")"
   ]
  },
  {
   "cell_type": "code",
   "execution_count": null,
   "id": "7de5aefb-ad88-4642-94fd-b58b825ae74c",
   "metadata": {
    "collapsed": true,
    "jupyter": {
     "outputs_hidden": true
    },
    "tags": []
   },
   "outputs": [],
   "source": [
    "(\n",
    "    spark\n",
    "    .read\n",
    "    .jdbc(\n",
    "        jdbc_url,\n",
    "        'public.sample_retail',\n",
    "        properties=jdbc_properties\n",
    "    )\n",
    "    .show()\n",
    ")"
   ]
  }
 ],
 "metadata": {
  "kernelspec": {
   "display_name": "Python 3 (ipykernel)",
   "language": "python",
   "name": "python3"
  },
  "language_info": {
   "codemirror_mode": {
    "name": "ipython",
    "version": 3
   },
   "file_extension": ".py",
   "mimetype": "text/x-python",
   "name": "python",
   "nbconvert_exporter": "python",
   "pygments_lexer": "ipython3",
   "version": "3.10.10"
  }
 },
 "nbformat": 4,
 "nbformat_minor": 5
}
